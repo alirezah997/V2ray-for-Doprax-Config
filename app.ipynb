{
 "cells": [
  {
   "cell_type": "code",
   "execution_count": 1,
   "metadata": {},
   "outputs": [
    {
     "name": "stderr",
     "output_type": "stream",
     "text": [
      "c:\\Users\\alirezah\\AppData\\Local\\Programs\\Python\\Python311\\Lib\\site-packages\\tqdm\\auto.py:21: TqdmWarning: IProgress not found. Please update jupyter and ipywidgets. See https://ipywidgets.readthedocs.io/en/stable/user_install.html\n",
      "  from .autonotebook import tqdm as notebook_tqdm\n"
     ]
    },
    {
     "ename": "ValueError",
     "evalue": "could not convert string to float: ''",
     "output_type": "error",
     "traceback": [
      "\u001b[1;31m---------------------------------------------------------------------------\u001b[0m",
      "\u001b[1;31mValueError\u001b[0m                                Traceback (most recent call last)",
      "Cell \u001b[1;32mIn[1], line 34\u001b[0m\n\u001b[0;32m     31\u001b[0m explainer_xgb_shap \u001b[38;5;241m=\u001b[39m shap\u001b[38;5;241m.\u001b[39mExplainer(xgb_model)\n\u001b[0;32m     33\u001b[0m \u001b[38;5;66;03m# Input features (provide your input data in the form of a Pandas DataFrame)\u001b[39;00m\n\u001b[1;32m---> 34\u001b[0m Diabetes \u001b[38;5;241m=\u001b[39m \u001b[38;5;28;43mfloat\u001b[39;49m\u001b[43m(\u001b[49m\u001b[38;5;28;43minput\u001b[39;49m\u001b[43m(\u001b[49m\u001b[38;5;124;43m\"\u001b[39;49m\u001b[38;5;124;43mDoes the patient have diabetes? 0=no, 1=yes: \u001b[39;49m\u001b[38;5;124;43m\"\u001b[39;49m\u001b[43m)\u001b[49m\u001b[43m)\u001b[49m\n\u001b[0;32m     35\u001b[0m Hypertension \u001b[38;5;241m=\u001b[39m \u001b[38;5;28mfloat\u001b[39m(\u001b[38;5;28minput\u001b[39m(\u001b[38;5;124m\"\u001b[39m\u001b[38;5;124mDoes the patient have high blood pressure? 0=no, 1=yes: \u001b[39m\u001b[38;5;124m\"\u001b[39m))\n\u001b[0;32m     36\u001b[0m Cardiovascular_Disease \u001b[38;5;241m=\u001b[39m \u001b[38;5;28mfloat\u001b[39m(\u001b[38;5;28minput\u001b[39m(\u001b[38;5;124m\"\u001b[39m\u001b[38;5;124mDoes the patient have cardivascular disease? 0=no, 1=yes: \u001b[39m\u001b[38;5;124m\"\u001b[39m))\n",
      "\u001b[1;31mValueError\u001b[0m: could not convert string to float: ''"
     ]
    }
   ],
   "source": [
    "import xgboost as xgb\n",
    "import shap\n",
    "import numpy as np\n",
    "import pandas as pd\n",
    "# Function to load the XGBoost model\n",
    "def load_xgboost_model(model_path):\n",
    "    xgb_model = xgb.XGBClassifier()\n",
    "    xgb_model.load_model(model_path)\n",
    "    return xgb_model\n",
    "\n",
    "# Function to predict readmission probability and binary output\n",
    "def predict_readmission(model, input_features):\n",
    "    # Predict probability of readmission\n",
    "    readmission_probability = model.predict_proba(input_features)[:, 1]\n",
    "    # Predict binary output (0 or 1)\n",
    "    binary_output = model.predict(input_features)\n",
    "    return readmission_probability, binary_output\n",
    "\n",
    "# Function to perform SHAP value analysis\n",
    "def shap_analysis(explainer, shap_values, input_features):\n",
    "    # Calculate SHAP values for input features\n",
    "    shap_values = explainer.shap_values(input_features)\n",
    "    # Visualize SHAP values\n",
    "    shap.summary_plot(shap_values, input_features)\n",
    "\n",
    "# Load the trained XGBoost model (replace 'model_path' with the path to your saved model)\n",
    "model_path = 'F:\\Courses\\Thesis\\knee\\Codes\\Preprocessing and Modeling\\Comorbidities/SelectedModel.xgb'\n",
    "xgb_model = load_xgboost_model(model_path)\n",
    "\n",
    "# Create a SHAP explainer object\n",
    "explainer_xgb_shap = shap.Explainer(xgb_model)\n",
    "\n",
    "# Input features (provide your input data in the form of a Pandas DataFrame)\n",
    "Diabetes = float(input(\"Does the patient have diabetes? 0=no, 1=yes: \"))\n",
    "Hypertension = float(input(\"Does the patient have high blood pressure? 0=no, 1=yes: \"))\n",
    "Cardiovascular_Disease = float(input(\"Does the patient have cardivascular disease? 0=no, 1=yes: \"))\n",
    "BMI = float(input(\"What is the Patient's BMI? \"))\n",
    "Age = float(input(\"How old is the patient? \"))\n",
    "Surguent_code_127115 = float(input(\"Has the patient been surgeried by Dr. Teymouri? 0=no, 1=yes: \"))\n",
    "Surguent_code_126725 = float(input(\"Has the patient been surgeried by Dr. Khazaei? 0=no, 1=yes: \"))\n",
    "Base_Insurance = float(input(\"Is patient insurance covered by Tamine EjtemaEE? 0=no, 1=yes: \"))\n",
    "Marital_status_Single = float(input(\"Is the patient marital status is single? 0=no, 1=yes: \"))\n",
    "Marital_status_Widdow = float(input(\"Is the patient marital status is widdow? 0=no, 1=yes: \"))\n",
    "# Predict readmission probability and binary output\n",
    "\n",
    "input_data = np.array([Diabetes, Hypertension, Surguent_code_126725, \n",
    "                       Base_Insurance, BMI, Cardiovascular_Disease, \n",
    "                       Surguent_code_127115, Age,Marital_status_Single,Marital_status_Widdow])\n",
    "# Create a DataFrame with the input data and headers\n",
    "input_df = pd.DataFrame([input_data], columns=[\n",
    "    'Diabetes',\n",
    "    'Hypertension (High Blood Pressure)',\n",
    "    'Surguent code_126725',\n",
    "    'Base Insurance_تامین اجتماعی',\n",
    "    'BMI',\n",
    "    'Cardiovascular Disease',\n",
    "    'Surguent code_127115',\n",
    "    'Age',\n",
    "    'Marital status_Single',\n",
    "    'Marital status_Widdow'\n",
    "])\n",
    "probabilities = xgb_model.predict_proba(input_df)[:, 1]\n",
    "binary_output = xgb_model.predict(input_df)\n",
    "shap_values = explainer_xgb_shap.shap_values(input_df)\n",
    "\n",
    "# Output results\n",
    "print(\"Probability of Readmission is: {:.2f}%\".format(probabilities[0]*100))\n",
    "# Print messages based on binary output\n",
    "if binary_output == 1:\n",
    "    print(\"The patient would probably be readmitted\")\n",
    "else:\n",
    "    print(\"The patient would not probably be readmitted\")\n",
    "# Perform SHAP value analysis\n",
    "shap_analysis(explainer_xgb_shap, shap_values, input_df)\n",
    "\n",
    "\n",
    "\n"
   ]
  }
 ],
 "metadata": {
  "kernelspec": {
   "display_name": "Python 3",
   "language": "python",
   "name": "python3"
  },
  "language_info": {
   "codemirror_mode": {
    "name": "ipython",
    "version": 3
   },
   "file_extension": ".py",
   "mimetype": "text/x-python",
   "name": "python",
   "nbconvert_exporter": "python",
   "pygments_lexer": "ipython3",
   "version": "3.11.1"
  }
 },
 "nbformat": 4,
 "nbformat_minor": 2
}
